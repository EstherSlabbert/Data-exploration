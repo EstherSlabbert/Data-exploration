{
 "cells": [
  {
   "cell_type": "code",
   "execution_count": 288,
   "metadata": {},
   "outputs": [],
   "source": [
    "# Imports the required packages\n",
    "import numpy as np\n",
    "import pandas as pd\n",
    "import seaborn as sns\n",
    "import matplotlib.pyplot as plt\n",
    "%matplotlib inline"
   ]
  },
  {
   "cell_type": "code",
   "execution_count": 289,
   "metadata": {},
   "outputs": [
    {
     "data": {
      "text/html": [
       "<div>\n",
       "<style scoped>\n",
       "    .dataframe tbody tr th:only-of-type {\n",
       "        vertical-align: middle;\n",
       "    }\n",
       "\n",
       "    .dataframe tbody tr th {\n",
       "        vertical-align: top;\n",
       "    }\n",
       "\n",
       "    .dataframe thead th {\n",
       "        text-align: right;\n",
       "    }\n",
       "</style>\n",
       "<table border=\"1\" class=\"dataframe\">\n",
       "  <thead>\n",
       "    <tr style=\"text-align: right;\">\n",
       "      <th></th>\n",
       "      <th>City</th>\n",
       "      <th>Murder</th>\n",
       "      <th>Assault</th>\n",
       "      <th>UrbanPop</th>\n",
       "      <th>Rape</th>\n",
       "    </tr>\n",
       "  </thead>\n",
       "  <tbody>\n",
       "    <tr>\n",
       "      <th>0</th>\n",
       "      <td>Alabama</td>\n",
       "      <td>13.20</td>\n",
       "      <td>236</td>\n",
       "      <td>58</td>\n",
       "      <td>21.20</td>\n",
       "    </tr>\n",
       "    <tr>\n",
       "      <th>1</th>\n",
       "      <td>Alaska</td>\n",
       "      <td>10.00</td>\n",
       "      <td>263</td>\n",
       "      <td>48</td>\n",
       "      <td>44.50</td>\n",
       "    </tr>\n",
       "    <tr>\n",
       "      <th>2</th>\n",
       "      <td>Arizona</td>\n",
       "      <td>8.10</td>\n",
       "      <td>294</td>\n",
       "      <td>80</td>\n",
       "      <td>31.00</td>\n",
       "    </tr>\n",
       "    <tr>\n",
       "      <th>3</th>\n",
       "      <td>Arkansas</td>\n",
       "      <td>8.80</td>\n",
       "      <td>190</td>\n",
       "      <td>50</td>\n",
       "      <td>19.50</td>\n",
       "    </tr>\n",
       "    <tr>\n",
       "      <th>4</th>\n",
       "      <td>California</td>\n",
       "      <td>9.00</td>\n",
       "      <td>276</td>\n",
       "      <td>91</td>\n",
       "      <td>40.60</td>\n",
       "    </tr>\n",
       "  </tbody>\n",
       "</table>\n",
       "</div>"
      ],
      "text/plain": [
       "         City  Murder  Assault  UrbanPop  Rape\n",
       "0     Alabama   13.20      236        58 21.20\n",
       "1      Alaska   10.00      263        48 44.50\n",
       "2     Arizona    8.10      294        80 31.00\n",
       "3    Arkansas    8.80      190        50 19.50\n",
       "4  California    9.00      276        91 40.60"
      ]
     },
     "execution_count": 289,
     "metadata": {},
     "output_type": "execute_result"
    }
   ],
   "source": [
    "# load the UsArrests dataset and create dataframes\n",
    "df = pd.read_csv('UsArrests.csv')\n",
    "df.head()"
   ]
  },
  {
   "cell_type": "code",
   "execution_count": 290,
   "metadata": {},
   "outputs": [
    {
     "name": "stdout",
     "output_type": "stream",
     "text": [
      "Number of states: 50\n"
     ]
    }
   ],
   "source": [
    "print('Number of states: {}'.format(df.shape[0]))"
   ]
  },
  {
   "cell_type": "code",
   "execution_count": 291,
   "metadata": {},
   "outputs": [
    {
     "data": {
      "text/html": [
       "<div>\n",
       "<style scoped>\n",
       "    .dataframe tbody tr th:only-of-type {\n",
       "        vertical-align: middle;\n",
       "    }\n",
       "\n",
       "    .dataframe tbody tr th {\n",
       "        vertical-align: top;\n",
       "    }\n",
       "\n",
       "    .dataframe thead th {\n",
       "        text-align: right;\n",
       "    }\n",
       "</style>\n",
       "<table border=\"1\" class=\"dataframe\">\n",
       "  <thead>\n",
       "    <tr style=\"text-align: right;\">\n",
       "      <th></th>\n",
       "      <th>missing</th>\n",
       "    </tr>\n",
       "  </thead>\n",
       "  <tbody>\n",
       "    <tr>\n",
       "      <th>City</th>\n",
       "      <td>0</td>\n",
       "    </tr>\n",
       "    <tr>\n",
       "      <th>Murder</th>\n",
       "      <td>0</td>\n",
       "    </tr>\n",
       "    <tr>\n",
       "      <th>Assault</th>\n",
       "      <td>0</td>\n",
       "    </tr>\n",
       "    <tr>\n",
       "      <th>UrbanPop</th>\n",
       "      <td>0</td>\n",
       "    </tr>\n",
       "    <tr>\n",
       "      <th>Rape</th>\n",
       "      <td>0</td>\n",
       "    </tr>\n",
       "  </tbody>\n",
       "</table>\n",
       "</div>"
      ],
      "text/plain": [
       "          missing\n",
       "City            0\n",
       "Murder          0\n",
       "Assault         0\n",
       "UrbanPop        0\n",
       "Rape            0"
      ]
     },
     "execution_count": 291,
     "metadata": {},
     "output_type": "execute_result"
    }
   ],
   "source": [
    "# Count missing values\n",
    "missing = df.isnull().sum()\n",
    "relevant_missing = pd.DataFrame(missing, columns=[\"missing\"])\n",
    "relevant_missing"
   ]
  },
  {
   "cell_type": "code",
   "execution_count": 292,
   "metadata": {},
   "outputs": [
    {
     "data": {
      "text/plain": [
       "City         object\n",
       "Murder      float64\n",
       "Assault       int64\n",
       "UrbanPop      int64\n",
       "Rape        float64\n",
       "dtype: object"
      ]
     },
     "execution_count": 292,
     "metadata": {},
     "output_type": "execute_result"
    }
   ],
   "source": [
    "#checks type of data in columns\n",
    "df.dtypes"
   ]
  },
  {
   "attachments": {},
   "cell_type": "markdown",
   "metadata": {},
   "source": [
    "## EDA"
   ]
  },
  {
   "cell_type": "code",
   "execution_count": 293,
   "metadata": {},
   "outputs": [
    {
     "data": {
      "text/html": [
       "<div>\n",
       "<style scoped>\n",
       "    .dataframe tbody tr th:only-of-type {\n",
       "        vertical-align: middle;\n",
       "    }\n",
       "\n",
       "    .dataframe tbody tr th {\n",
       "        vertical-align: top;\n",
       "    }\n",
       "\n",
       "    .dataframe thead th {\n",
       "        text-align: right;\n",
       "    }\n",
       "</style>\n",
       "<table border=\"1\" class=\"dataframe\">\n",
       "  <thead>\n",
       "    <tr style=\"text-align: right;\">\n",
       "      <th></th>\n",
       "      <th>Murder</th>\n",
       "      <th>Assault</th>\n",
       "      <th>UrbanPop</th>\n",
       "      <th>Rape</th>\n",
       "    </tr>\n",
       "  </thead>\n",
       "  <tbody>\n",
       "    <tr>\n",
       "      <th>count</th>\n",
       "      <td>50.00</td>\n",
       "      <td>50.00</td>\n",
       "      <td>50.00</td>\n",
       "      <td>50.00</td>\n",
       "    </tr>\n",
       "    <tr>\n",
       "      <th>mean</th>\n",
       "      <td>7.79</td>\n",
       "      <td>170.76</td>\n",
       "      <td>65.54</td>\n",
       "      <td>21.23</td>\n",
       "    </tr>\n",
       "    <tr>\n",
       "      <th>std</th>\n",
       "      <td>4.36</td>\n",
       "      <td>83.34</td>\n",
       "      <td>14.47</td>\n",
       "      <td>9.37</td>\n",
       "    </tr>\n",
       "    <tr>\n",
       "      <th>min</th>\n",
       "      <td>0.80</td>\n",
       "      <td>45.00</td>\n",
       "      <td>32.00</td>\n",
       "      <td>7.30</td>\n",
       "    </tr>\n",
       "    <tr>\n",
       "      <th>25%</th>\n",
       "      <td>4.08</td>\n",
       "      <td>109.00</td>\n",
       "      <td>54.50</td>\n",
       "      <td>15.07</td>\n",
       "    </tr>\n",
       "    <tr>\n",
       "      <th>50%</th>\n",
       "      <td>7.25</td>\n",
       "      <td>159.00</td>\n",
       "      <td>66.00</td>\n",
       "      <td>20.10</td>\n",
       "    </tr>\n",
       "    <tr>\n",
       "      <th>75%</th>\n",
       "      <td>11.25</td>\n",
       "      <td>249.00</td>\n",
       "      <td>77.75</td>\n",
       "      <td>26.18</td>\n",
       "    </tr>\n",
       "    <tr>\n",
       "      <th>max</th>\n",
       "      <td>17.40</td>\n",
       "      <td>337.00</td>\n",
       "      <td>91.00</td>\n",
       "      <td>46.00</td>\n",
       "    </tr>\n",
       "  </tbody>\n",
       "</table>\n",
       "</div>"
      ],
      "text/plain": [
       "       Murder  Assault  UrbanPop  Rape\n",
       "count   50.00    50.00     50.00 50.00\n",
       "mean     7.79   170.76     65.54 21.23\n",
       "std      4.36    83.34     14.47  9.37\n",
       "min      0.80    45.00     32.00  7.30\n",
       "25%      4.08   109.00     54.50 15.07\n",
       "50%      7.25   159.00     66.00 20.10\n",
       "75%     11.25   249.00     77.75 26.18\n",
       "max     17.40   337.00     91.00 46.00"
      ]
     },
     "execution_count": 293,
     "metadata": {},
     "output_type": "execute_result"
    }
   ],
   "source": [
    "#To set the decimal precision at 2 points in float format\n",
    "pd.set_option('display.float_format', lambda x: '%.2f' % x) \n",
    "# gives general info about data\n",
    "df.describe()"
   ]
  },
  {
   "cell_type": "code",
   "execution_count": 295,
   "metadata": {},
   "outputs": [
    {
     "name": "stdout",
     "output_type": "stream",
     "text": [
      "Highest murders:\n",
      "               City  Murder  Assault  UrbanPop  Rape\n",
      "9          Georgia   17.40      211        60 25.80\n",
      "23     Mississippi   16.10      259        44 17.10\n",
      "8          Florida   15.40      335        80 31.90\n",
      "17       Louisiana   15.40      249        66 22.20\n",
      "39  South Carolina   14.40      279        48 22.50\n",
      " Highest assaults:\n",
      "               City  Murder  Assault  UrbanPop  Rape\n",
      "32  North Carolina   13.00      337        45 16.10\n",
      "8          Florida   15.40      335        80 31.90\n",
      "19        Maryland   11.30      300        67 27.80\n",
      "2          Arizona    8.10      294        80 31.00\n",
      "30      New Mexico   11.40      285        70 32.10\n",
      " Highest rapes:\n",
      "           City  Murder  Assault  UrbanPop  Rape\n",
      "27      Nevada   12.20      252        81 46.00\n",
      "1       Alaska   10.00      263        48 44.50\n",
      "4   California    9.00      276        91 40.60\n",
      "5     Colorado    7.90      204        78 38.70\n",
      "21    Michigan   12.10      255        74 35.10\n",
      " Highest urban population:\n",
      "              City  Murder  Assault  UrbanPop  Rape\n",
      "4      California    9.00      276        91 40.60\n",
      "29     New Jersey    7.40      159        89 18.80\n",
      "38   Rhode Island    3.40      174        87  8.30\n",
      "31       New York   11.10      254        86 26.10\n",
      "20  Massachusetts    4.40      149        85 16.30\n"
     ]
    }
   ],
   "source": [
    "# sorting data into groups\n",
    "states = df.City #states\n",
    "homicide = df.sort_values(by=['Murder'], ascending=False) # max to min murders per 100,000 population\n",
    "violent = df.sort_values(by=['Assault'], ascending=False) # max to min assaults per 100,000 population\n",
    "sexual_abuse = df.sort_values(by=['Rape'], ascending=False) # max to min rapes per 100,000 population\n",
    "pop_urban = df.sort_values(by=['UrbanPop'], ascending=False) # max to min urban population %\n",
    "print(f\"\"\"Highest murders:\n",
    " {homicide.head()}\n",
    " Highest assaults:\n",
    " {violent.head()}\n",
    " Highest rapes:\n",
    " {sexual_abuse.head()}\n",
    " Highest urban population:\n",
    " {pop_urban.head()}\"\"\")"
   ]
  },
  {
   "cell_type": "code",
   "execution_count": 294,
   "metadata": {},
   "outputs": [
    {
     "data": {
      "image/png": "[encoded data removed]",
      "text/plain": [
       "<Figure size 1500x1000 with 4 Axes>"
      ]
     },
     "metadata": {},
     "output_type": "display_data"
    }
   ],
   "source": [
    "# Histograms will give a general idea on the distribution of crimes/arrests committed throughout the USA\n",
    "# Plot histograms\n",
    "histograms = df.hist(grid=False, figsize=(15, 10)) #This can also be done for each column individually by calling hist on that column\n",
    "plt.tight_layout()\n",
    "plt.show()"
   ]
  },
  {
   "cell_type": "code",
   "execution_count": 296,
   "metadata": {},
   "outputs": [
    {
     "data": {
      "text/plain": [
       "'# Plot six different scatter plots with the different combinations of the variables\\nsns.pairplot(df, hue = \"City\")\\nplt.show()\\nplt.close()'"
      ]
     },
     "execution_count": 296,
     "metadata": {},
     "output_type": "execute_result"
    }
   ],
   "source": [
    "# Plot six different scatter plots with the different combinations of the variables\n",
    "sns.pairplot(df, hue = \"City\")\n",
    "plt.show()\n",
    "plt.close()"
   ]
  },
  {
   "cell_type": "code",
   "execution_count": 297,
   "metadata": {},
   "outputs": [
    {
     "data": {
      "image/png": "[encoded data removed]",
      "text/plain": [
       "<Figure size 640x480 with 1 Axes>"
      ]
     },
     "metadata": {},
     "output_type": "display_data"
    },
    {
     "data": {
      "text/plain": [
       "Murder     389.40\n",
       "Assault   8538.00\n",
       "Rape      1061.60\n",
       "dtype: float64"
      ]
     },
     "execution_count": 297,
     "metadata": {},
     "output_type": "execute_result"
    }
   ],
   "source": [
    "# number of crimes committed/arrests for those crimes in all 50 states in 1973\n",
    "no_crimes=df.drop(['City','UrbanPop'],axis=1).sum()\n",
    "# pie chart for % arrests for specific crimes\n",
    "plt.pie(no_crimes, labels = df.drop(['City','UrbanPop'],axis=1).columns, autopct='%.0f%%')\n",
    "plt.title(\"Percentage of arrests for different crimes in the USA in 1973\")\n",
    "plt.show()\n",
    "plt.close()\n",
    "no_crimes"
   ]
  },
  {
   "cell_type": "code",
   "execution_count": 298,
   "metadata": {},
   "outputs": [
    {
     "name": "stderr",
     "output_type": "stream",
     "text": [
      "C:\\Users\\super\\AppData\\Local\\Temp\\ipykernel_6420\\2920169007.py:1: FutureWarning: The default value of numeric_only in DataFrame.corr is deprecated. In a future version, it will default to False. Select only valid columns or specify the value of numeric_only to silence this warning.\n",
      "  corr_df = df.corr()\n"
     ]
    },
    {
     "data": {
      "text/plain": [
       "<AxesSubplot: >"
      ]
     },
     "execution_count": 298,
     "metadata": {},
     "output_type": "execute_result"
    },
    {
     "data": {
      "image/png": "[encoded data removed]",
      "text/plain": [
       "<Figure size 640x480 with 2 Axes>"
      ]
     },
     "metadata": {},
     "output_type": "display_data"
    }
   ],
   "source": [
    "corr_df = df.corr()\n",
    "labels =corr_df.columns\n",
    "\n",
    "correlations = corr_df.corr()\n",
    "mask_ut=np.triu(np.ones(corr_df.shape)).astype(np.bool_)\n",
    "sns.heatmap(corr_df, vmin=-1, vmax=1, annot=True,fmt='.2g', mask=mask_ut, cmap=\"coolwarm\")"
   ]
  }
 ],
 "metadata": {
  "kernelspec": {
   "display_name": "Python 3",
   "language": "python",
   "name": "python3"
  },
  "language_info": {
   "codemirror_mode": {
    "name": "ipython",
    "version": 3
   },
   "file_extension": ".py",
   "mimetype": "text/x-python",
   "name": "python",
   "nbconvert_exporter": "python",
   "pygments_lexer": "ipython3",
   "version": "3.11.0"
  },
  "orig_nbformat": 4,
  "vscode": {
   "interpreter": {
    "hash": "fd9e38af040559ad764514e0db59d6a267742561531a8adad5281cf94d911280"
   }
  }
 },
 "nbformat": 4,
 "nbformat_minor": 2
}
